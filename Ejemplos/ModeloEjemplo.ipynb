{
 "cells": [
  {
   "cell_type": "markdown",
   "id": "289212f7",
   "metadata": {},
   "source": [
    "### Ejemplo de entrenamiento de Modelo"
   ]
  },
  {
   "cell_type": "markdown",
   "id": "9b92c772",
   "metadata": {},
   "source": [
    "Algunos enlaces para poder leer sobre este tipo de procedimientos\n",
    "\n",
    "* https://keras.io/examples/vision/conv_lstm/ (Ejemplo que funciona como base para entrenar un modelo con el metodo ConvLSTM)\n",
    "* https://medium.com/neuronio/an-introduction-to-convlstm-55c9025563a7\n",
    "* https://papers.nips.cc/paper/2015/file/07563a3fe3bbe7e3ba84431ad9d055af-Paper.pdf\n",
    "* https://medium.com/@rajin250/precipitation-prediction-using-convlstm-deep-neural-network-b9e9b617b436 \n",
    "* https://github.com/TeaPearce/precipitation-prediction-convLSTM-keras (Repositorio del articulo anterior)"
   ]
  },
  {
   "cell_type": "code",
   "execution_count": 1,
   "id": "9aa3a89a",
   "metadata": {},
   "outputs": [],
   "source": [
    "import numpy as np\n",
    "import matplotlib.pyplot as plt\n",
    "\n",
    "import tensorflow as tf\n",
    "from tensorflow import keras\n",
    "from tensorflow.keras import layers\n",
    "\n",
    "import io\n",
    "import imageio\n",
    "from IPython.display import Image, display\n",
    "from ipywidgets import widgets, Layout, HBox"
   ]
  },
  {
   "cell_type": "markdown",
   "id": "e8f3d5d2",
   "metadata": {},
   "source": [
    "### Se carga los archivos con las matrices para el entrenamiento"
   ]
  },
  {
   "cell_type": "code",
   "execution_count": 2,
   "id": "18bf4f7c",
   "metadata": {},
   "outputs": [
    {
     "name": "stdout",
     "output_type": "stream",
     "text": [
      "CPU times: user 597 µs, sys: 4.83 ms, total: 5.43 ms\n",
      "Wall time: 4.48 ms\n"
     ]
    }
   ],
   "source": [
    "%%time\n",
    "dataset = np.load(\"historial_1D.npy\")"
   ]
  },
  {
   "cell_type": "markdown",
   "id": "2d3baeab",
   "metadata": {},
   "source": [
    "## Forma de los datos\n",
    "\n",
    "El conjunto de datos consta de 98 secuencias de 5 imagenes de 40x40\n"
   ]
  },
  {
   "cell_type": "code",
   "execution_count": 3,
   "id": "4e3ff2d7",
   "metadata": {},
   "outputs": [
    {
     "data": {
      "text/plain": [
       "(98, 5, 40, 40)"
      ]
     },
     "execution_count": 3,
     "metadata": {},
     "output_type": "execute_result"
    }
   ],
   "source": [
    "dataset.shape"
   ]
  },
  {
   "cell_type": "markdown",
   "id": "8e568b47",
   "metadata": {},
   "source": [
    "Esto permite ver si se detecta correctamente una grafica, en muchos procesos de entrenamientos se logra una reduccion de tiempos utilizando GPUs."
   ]
  },
  {
   "cell_type": "markdown",
   "id": "f8a438f1",
   "metadata": {},
   "source": [
    "print(\"Num GPUs Available: \", len(tf.config.list_physical_devices('GPU')))\n"
   ]
  },
  {
   "cell_type": "code",
   "execution_count": 4,
   "id": "804c1f5f",
   "metadata": {},
   "outputs": [
    {
     "data": {
      "text/plain": [
       "(98, 5, 40, 40, 1)"
      ]
     },
     "execution_count": 4,
     "metadata": {},
     "output_type": "execute_result"
    }
   ],
   "source": [
    "\n",
    "# Add a channel dimension since the images are grayscale.\n",
    "dataset = np.expand_dims(dataset, axis=-1)\n",
    "dataset.shape"
   ]
  },
  {
   "cell_type": "markdown",
   "id": "61561527",
   "metadata": {},
   "source": [
    "* Se normalizan los datos entre 0 y 1 (En este ejemplo no es necesario ya que el valor maximo posible es 1)\n",
    "\n",
    "* Se utiliza el 80% de los datos para entrenamiento y otro 20% para validacion\n"
   ]
  },
  {
   "cell_type": "code",
   "execution_count": 5,
   "id": "333813cb",
   "metadata": {},
   "outputs": [
    {
     "name": "stdout",
     "output_type": "stream",
     "text": [
      "Training Dataset Shapes: (78, 4, 40, 40, 1), (78, 4, 40, 40, 1)\n",
      "Validation Dataset Shapes: (20, 4, 40, 40, 1), (20, 4, 40, 40, 1)\n"
     ]
    }
   ],
   "source": [
    "\n",
    "# Split into train and validation sets using indexing to optimize memory.\n",
    "indexes = np.arange(dataset.shape[0])\n",
    "np.random.shuffle(indexes)\n",
    "train_index = indexes[: int(0.8 * dataset.shape[0])]\n",
    "val_index = indexes[int(0.8 * dataset.shape[0]) :]\n",
    "train_dataset = dataset[train_index]\n",
    "val_dataset = dataset[val_index]\n",
    "\n",
    "\n",
    "\n",
    "#Los datos ya estan entre 0 y 1 \n",
    "\n",
    "# Normalize the data to the 0-1 range.\n",
    "#train_dataset = train_dataset / 255\n",
    "#val_dataset = val_dataset / 255\n",
    "\n",
    "# We'll define a helper function to shift the frames, where\n",
    "# `x` is frames 0 to n - 1, and `y` is frames 1 to n.\n",
    "def create_shifted_frames(data):\n",
    "    x = data[:, 0 : data.shape[1] - 1, :, :]\n",
    "    y = data[:, 1 : data.shape[1], :, :]\n",
    "    return x, y\n",
    "\n",
    "\n",
    "# Apply the processing function to the datasets.\n",
    "x_train, y_train = create_shifted_frames(train_dataset)\n",
    "x_val, y_val = create_shifted_frames(val_dataset)\n",
    "\n",
    "# Inspect the dataset.\n",
    "print(\"Training Dataset Shapes: \" + str(x_train.shape) + \", \" + str(y_train.shape))\n",
    "print(\"Validation Dataset Shapes: \" + str(x_val.shape) + \", \" + str(y_val.shape))"
   ]
  },
  {
   "cell_type": "markdown",
   "id": "3c02360f",
   "metadata": {},
   "source": [
    "### Visualizacion de un ejemplo de secuencia"
   ]
  },
  {
   "cell_type": "code",
   "execution_count": 6,
   "id": "c5ce25a9",
   "metadata": {},
   "outputs": [
    {
     "data": {
      "text/plain": [
       "<matplotlib.image.AxesImage at 0x7fe2da1871c0>"
      ]
     },
     "execution_count": 6,
     "metadata": {},
     "output_type": "execute_result"
    },
    {
     "data": {
      "image/png": "[encoded data removed]",
      "text/plain": [
       "<Figure size 2000x500 with 5 Axes>"
      ]
     },
     "metadata": {},
     "output_type": "display_data"
    }
   ],
   "source": [
    "\n",
    "\n",
    "# Plot each of the sequential images for one random data example.\n",
    "data_choice = np.random.choice(range(len(train_dataset)), size=1)[0]\n",
    "\n",
    "\n",
    "\n",
    "fig, (ax1, ax2, ax3, ax4, ax5) = plt.subplots(1, 5, figsize=(20,5))\n",
    "fig.suptitle('Horizontally stacked subplots')\n",
    "ax1.imshow(train_dataset[data_choice][0], cmap='Reds', vmin=0, vmax=1)\n",
    "ax2.imshow(train_dataset[data_choice][1], cmap='Reds', vmin=0, vmax=1)\n",
    "ax3.imshow(train_dataset[data_choice][2], cmap='Reds', vmin=0, vmax=1)\n",
    "ax4.imshow(train_dataset[data_choice][3], cmap='Reds', vmin=0, vmax=1)\n",
    "ax5.imshow(train_dataset[data_choice][4], cmap='Reds', vmin=0, vmax=1)\n"
   ]
  },
  {
   "cell_type": "markdown",
   "id": "8cbbd515",
   "metadata": {},
   "source": [
    "### Construccion del modelo"
   ]
  },
  {
   "cell_type": "markdown",
   "id": "4c8c537f",
   "metadata": {},
   "source": [
    "Aqui se podria modificar en base a muchas variables como el tipo de conjunto de datos, cuantos datos se  tienen, que tan complejo es el problema entre otras cosas, en general se toma de base modelo y se va analizando posibles cambios que se puedan realizar."
   ]
  },
  {
   "cell_type": "code",
   "execution_count": 7,
   "id": "a7fd2124",
   "metadata": {},
   "outputs": [],
   "source": [
    "# Construct the input layer with no definite frame size.\n",
    "inp = layers.Input(shape=(None, *x_train.shape[2:]))\n",
    "\n",
    "# We will construct 3 `ConvLSTM2D` layers with batch normalization,\n",
    "# followed by a `Conv3D` layer for the spatiotemporal outputs.\n",
    "x = layers.ConvLSTM2D(\n",
    "    filters=64,\n",
    "    kernel_size=(5, 5),\n",
    "    padding=\"same\",\n",
    "    return_sequences=True,\n",
    "    activation=\"relu\",\n",
    ")(inp)\n",
    "x = layers.BatchNormalization()(x)\n",
    "x = layers.ConvLSTM2D(\n",
    "    filters=64,\n",
    "    kernel_size=(3, 3),\n",
    "    padding=\"same\",\n",
    "    return_sequences=True,\n",
    "    activation=\"relu\",\n",
    ")(x)\n",
    "x = layers.BatchNormalization()(x)\n",
    "x = layers.ConvLSTM2D(\n",
    "    filters=64,\n",
    "    kernel_size=(1, 1),\n",
    "    padding=\"same\",\n",
    "    return_sequences=True,\n",
    "    activation=\"relu\",\n",
    ")(x)\n",
    "x = layers.Conv3D(\n",
    "    filters=1, kernel_size=(3, 3, 3), activation=\"sigmoid\", padding=\"same\"\n",
    ")(x)\n",
    "\n",
    "# Next, we will build the complete model and compile it.\n",
    "model = keras.models.Model(inp, x)\n",
    "model.compile(\n",
    "    loss=keras.losses.binary_crossentropy, optimizer=keras.optimizers.Adam(),\n",
    ")"
   ]
  },
  {
   "cell_type": "markdown",
   "id": "9d978772",
   "metadata": {},
   "source": [
    "### Resumen del modelo"
   ]
  },
  {
   "cell_type": "code",
   "execution_count": 8,
   "id": "ae8b80b1",
   "metadata": {},
   "outputs": [
    {
     "name": "stdout",
     "output_type": "stream",
     "text": [
      "Model: \"model\"\n",
      "_________________________________________________________________\n",
      " Layer (type)                Output Shape              Param #   \n",
      "=================================================================\n",
      " input_1 (InputLayer)        [(None, None, 40, 40, 1)  0         \n",
      "                             ]                                   \n",
      "                                                                 \n",
      " conv_lstm2d (ConvLSTM2D)    (None, None, 40, 40, 64)  416256    \n",
      "                                                                 \n",
      " batch_normalization (BatchN  (None, None, 40, 40, 64)  256      \n",
      " ormalization)                                                   \n",
      "                                                                 \n",
      " conv_lstm2d_1 (ConvLSTM2D)  (None, None, 40, 40, 64)  295168    \n",
      "                                                                 \n",
      " batch_normalization_1 (Batc  (None, None, 40, 40, 64)  256      \n",
      " hNormalization)                                                 \n",
      "                                                                 \n",
      " conv_lstm2d_2 (ConvLSTM2D)  (None, None, 40, 40, 64)  33024     \n",
      "                                                                 \n",
      " conv3d (Conv3D)             (None, None, 40, 40, 1)   1729      \n",
      "                                                                 \n",
      "=================================================================\n",
      "Total params: 746,689\n",
      "Trainable params: 746,433\n",
      "Non-trainable params: 256\n",
      "_________________________________________________________________\n",
      "None\n"
     ]
    }
   ],
   "source": [
    "print(model.summary())"
   ]
  },
  {
   "cell_type": "markdown",
   "id": "43ba967a",
   "metadata": {},
   "source": [
    "### Se entrena el modelo"
   ]
  },
  {
   "cell_type": "code",
   "execution_count": 11,
   "id": "54ea9298",
   "metadata": {},
   "outputs": [
    {
     "name": "stdout",
     "output_type": "stream",
     "text": [
      "Epoch 1/20\n",
      "16/16 [==============================] - 1s 55ms/step - loss: 0.0782 - val_loss: 0.4754 - lr: 1.0000e-05\n",
      "Epoch 2/20\n",
      "16/16 [==============================] - 1s 52ms/step - loss: 0.0776 - val_loss: 0.4717 - lr: 1.0000e-05\n",
      "Epoch 3/20\n",
      "16/16 [==============================] - 1s 53ms/step - loss: 0.0781 - val_loss: 0.4642 - lr: 1.0000e-05\n",
      "Epoch 4/20\n",
      "16/16 [==============================] - 1s 53ms/step - loss: 0.0784 - val_loss: 0.4525 - lr: 1.0000e-05\n",
      "Epoch 5/20\n",
      "16/16 [==============================] - 1s 52ms/step - loss: 0.0776 - val_loss: 0.4353 - lr: 1.0000e-05\n",
      "Epoch 6/20\n",
      "16/16 [==============================] - 1s 52ms/step - loss: 0.0787 - val_loss: 0.4128 - lr: 1.0000e-05\n",
      "Epoch 7/20\n",
      "16/16 [==============================] - 1s 52ms/step - loss: 0.0773 - val_loss: 0.3867 - lr: 1.0000e-05\n",
      "Epoch 8/20\n",
      "16/16 [==============================] - 1s 53ms/step - loss: 0.0788 - val_loss: 0.3582 - lr: 1.0000e-05\n",
      "Epoch 9/20\n",
      "16/16 [==============================] - 1s 52ms/step - loss: 0.0780 - val_loss: 0.3262 - lr: 1.0000e-05\n",
      "Epoch 10/20\n",
      "16/16 [==============================] - 1s 52ms/step - loss: 0.0776 - val_loss: 0.2934 - lr: 1.0000e-05\n",
      "Epoch 11/20\n",
      "16/16 [==============================] - 1s 53ms/step - loss: 0.0780 - val_loss: 0.2611 - lr: 1.0000e-05\n",
      "Epoch 12/20\n",
      "16/16 [==============================] - 1s 53ms/step - loss: 0.0774 - val_loss: 0.2306 - lr: 1.0000e-05\n",
      "Epoch 13/20\n",
      "16/16 [==============================] - 1s 53ms/step - loss: 0.0776 - val_loss: 0.2032 - lr: 1.0000e-05\n",
      "Epoch 14/20\n",
      "16/16 [==============================] - 1s 53ms/step - loss: 0.0779 - val_loss: 0.1786 - lr: 1.0000e-05\n",
      "Epoch 15/20\n",
      "16/16 [==============================] - 1s 53ms/step - loss: 0.0796 - val_loss: 0.1586 - lr: 1.0000e-05\n",
      "Epoch 16/20\n",
      "16/16 [==============================] - 1s 53ms/step - loss: 0.0777 - val_loss: 0.1418 - lr: 1.0000e-05\n",
      "Epoch 17/20\n",
      "16/16 [==============================] - 1s 52ms/step - loss: 0.0776 - val_loss: 0.1291 - lr: 1.0000e-05\n",
      "Epoch 18/20\n",
      "16/16 [==============================] - 1s 53ms/step - loss: 0.0775 - val_loss: 0.1194 - lr: 1.0000e-05\n",
      "Epoch 19/20\n",
      "16/16 [==============================] - 1s 53ms/step - loss: 0.0777 - val_loss: 0.1125 - lr: 1.0000e-05\n",
      "Epoch 20/20\n",
      "16/16 [==============================] - 1s 53ms/step - loss: 0.0788 - val_loss: 0.1083 - lr: 1.0000e-05\n"
     ]
    },
    {
     "data": {
      "text/plain": [
       "<keras.callbacks.History at 0x7fe32ea322f0>"
      ]
     },
     "execution_count": 11,
     "metadata": {},
     "output_type": "execute_result"
    }
   ],
   "source": [
    "# Define some callbacks to improve training.\n",
    "early_stopping = keras.callbacks.EarlyStopping(monitor=\"val_loss\", patience=10)\n",
    "reduce_lr = keras.callbacks.ReduceLROnPlateau(monitor=\"val_loss\", patience=5)\n",
    "\n",
    "# Define modifiable training hyperparameters.\n",
    "epochs = 20\n",
    "batch_size = 5\n",
    "\n",
    "# Fit the model to the training data.\n",
    "model.fit(\n",
    "    x_train,\n",
    "    y_train,\n",
    "    batch_size=batch_size,\n",
    "    epochs=epochs,\n",
    "    validation_data=(x_val, y_val),\n",
    "    callbacks=[early_stopping, reduce_lr],\n",
    ")"
   ]
  },
  {
   "cell_type": "markdown",
   "id": "c383f7cb",
   "metadata": {},
   "source": [
    "### Se utiliza el modelo para predecir la 5 imagen y se visualiza."
   ]
  },
  {
   "cell_type": "code",
   "execution_count": 79,
   "id": "24f33f04",
   "metadata": {},
   "outputs": [
    {
     "data": {
      "image/png": "[encoded data removed]",
      "text/plain": [
       "<Figure size 2000x500 with 5 Axes>"
      ]
     },
     "metadata": {},
     "output_type": "display_data"
    },
    {
     "data": {
      "image/png": "[encoded data removed]",
      "text/plain": [
       "<Figure size 2000x500 with 5 Axes>"
      ]
     },
     "metadata": {},
     "output_type": "display_data"
    }
   ],
   "source": [
    "# Select a random example from the validation dataset.\n",
    "example = val_dataset[np.random.choice(range(len(val_dataset)), size=1)[0]]\n",
    "\n",
    "# Pick the first/last ten frames from the example.\n",
    "frames = example[:4, ...]\n",
    "original_frames = example[4:, ...]\n",
    "\n",
    "\n",
    "# Extract the model's prediction and post-process it.\n",
    "new_prediction = model.predict(np.expand_dims(frames, axis=0))\n",
    "new_prediction = np.squeeze(new_prediction, axis=0)\n",
    "predicted_frame = np.expand_dims(new_prediction[-1, ...], axis=0)\n",
    "\n",
    "# Extend the set of prediction frames.\n",
    "frames = np.concatenate((frames, predicted_frame), axis=0)\n",
    "\n",
    "\n",
    "    \n",
    "    \n",
    "fig, (ax1, ax2, ax3, ax4, ax5) = plt.subplots(1, 5, figsize=(20,5))\n",
    "fig.suptitle('Horizontally stacked subplots')\n",
    "ax1.imshow(np.squeeze(frames[-5]), cmap='Reds', vmin=0, vmax=1)\n",
    "ax2.imshow(np.squeeze(frames[-4]), cmap='Reds', vmin=0, vmax=1)\n",
    "ax3.imshow(np.squeeze(frames[-3]), cmap='Reds', vmin=0, vmax=1)\n",
    "ax4.imshow(np.squeeze(frames[-2]), cmap='Reds', vmin=0, vmax=1)\n",
    "ax5.imshow(np.squeeze(np.where(original_frames[-1] > 0.5, 1, 0)), cmap='Reds', vmin=0, vmax=1)\n",
    "\n",
    "fig, (ax1, ax2, ax3, ax4, ax5) = plt.subplots(1, 5, figsize=(20,5))\n",
    "fig.suptitle('Horizontally stacked subplots')\n",
    "ax1.imshow(np.squeeze(frames[-5]), cmap='Reds', vmin=0, vmax=1)\n",
    "ax2.imshow(np.squeeze(frames[-4]), cmap='Reds', vmin=0, vmax=1)\n",
    "ax3.imshow(np.squeeze(frames[-3]), cmap='Reds', vmin=0, vmax=1)\n",
    "ax4.imshow(np.squeeze(frames[-2]), cmap='Reds', vmin=0, vmax=1)\n",
    "ax5.imshow(np.squeeze(np.where(frames[-1] > frames[-1].max()*.5, 1, 0)), cmap='Reds', vmin=0, vmax=1)\n",
    "\n",
    "\n",
    "\n",
    "# Display the figure.\n",
    "plt.show()\n"
   ]
  },
  {
   "cell_type": "markdown",
   "id": "3e02e2fc",
   "metadata": {},
   "source": [
    "\n",
    "* En el primer renglon esta la secuencia de 5 imagenes original.\n",
    "\n",
    "\n",
    "* En la segunda estan 4 frames originales y la 5 representa la prediccion que el modelo predijo\n",
    "\n",
    "* La unica modificacion que le hago a la prediccion es aplicarle un limite para definir que sea 0 o 1 el valor en cada zona para poder visualizarlo de mejor manera"
   ]
  }
 ],
 "metadata": {
  "kernelspec": {
   "display_name": "Python 3 (ipykernel)",
   "language": "python",
   "name": "python3"
  },
  "language_info": {
   "codemirror_mode": {
    "name": "ipython",
    "version": 3
   },
   "file_extension": ".py",
   "mimetype": "text/x-python",
   "name": "python",
   "nbconvert_exporter": "python",
   "pygments_lexer": "ipython3",
   "version": "3.10.9"
  }
 },
 "nbformat": 4,
 "nbformat_minor": 5
}
