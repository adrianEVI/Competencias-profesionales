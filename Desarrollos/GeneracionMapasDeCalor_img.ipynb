{
 "cells": [
  {
   "cell_type": "code",
   "execution_count": 3,
   "id": "3b46469f",
   "metadata": {},
   "outputs": [
    {
     "name": "stdout",
     "output_type": "stream",
     "text": [
      "               Fecha                Hora  latitud  longitud  corrientePico  \\\n",
      "0         2015-01-01  17:49:38.187316965  26.0828 -109.9644           -9.3   \n",
      "1         2015-01-01  17:49:38.116536534  26.0921 -109.9014           -5.0   \n",
      "2         2015-01-01  17:49:38.082890357  26.0825 -109.8886          -19.9   \n",
      "3         2015-01-01  17:49:38.026770247  26.0778 -109.9338          -31.7   \n",
      "4         2015-01-01  20:17:30.876020136  26.7110 -109.2636          234.0   \n",
      "...              ...                 ...      ...       ...            ...   \n",
      "80775579  2019-12-28  09:16:59.828122367  24.9845 -105.9646         -296.4   \n",
      "80775580  2019-12-28  09:17:00.133464372  24.9448 -105.9516           -6.8   \n",
      "80775581  2019-12-31  23:42:26.426682061  26.9430 -111.0635           19.2   \n",
      "80775582  2019-12-31  23:45:54.527168476  27.1344 -110.9009           78.6   \n",
      "80775583  2019-12-31  23:48:34.648615741  26.9161 -111.0204           -7.5   \n",
      "\n",
      "                    Datetime  \n",
      "0        2015-01-01 17:49:38  \n",
      "1        2015-01-01 17:49:38  \n",
      "2        2015-01-01 17:49:38  \n",
      "3        2015-01-01 17:49:38  \n",
      "4        2015-01-01 20:17:31  \n",
      "...                      ...  \n",
      "80775579 2019-12-28 09:17:00  \n",
      "80775580 2019-12-28 09:17:00  \n",
      "80775581 2019-12-31 23:42:26  \n",
      "80775582 2019-12-31 23:45:55  \n",
      "80775583 2019-12-31 23:48:35  \n",
      "\n",
      "[80775584 rows x 6 columns]\n",
      "CPU times: user 1min 56s, sys: 12.4 s, total: 2min 8s\n",
      "Wall time: 2min 20s\n"
     ]
    }
   ],
   "source": [
    "%%time\n",
    "from matplotlib import pyplot as plt\n",
    "from datetime import datetime, timedelta\n",
    "import numpy as np\n",
    "import seaborn as sns\n",
    "import pandas as pd\n",
    "import matplotlib.pyplot as plt\n",
    "\n",
    "# Lee el archivo CSV\n",
    "df = pd.read_csv('fullData/full_dataSorted.csv', parse_dates=['Datetime'])\n",
    "\n",
    "# Muestra el dataframe\n",
    "print(df)"
   ]
  },
  {
   "cell_type": "code",
   "execution_count": 4,
   "id": "0ccd4b32",
   "metadata": {},
   "outputs": [
    {
     "name": "stdout",
     "output_type": "stream",
     "text": [
      "Latitud minima en los datos: 20.9479\n",
      "Latitud maxima en los datos: 31.9364\n",
      "Longitud minima en los datos: -113.2693\n",
      "Longitud maxima en los datos: -102.0989\n",
      "Resolucion en grados: 0.05\n",
      "CPU times: user 732 ms, sys: 68 ms, total: 801 ms\n",
      "Wall time: 798 ms\n"
     ]
    }
   ],
   "source": [
    "%%time\n",
    "\n",
    "latMin=df[\"latitud\"].min()\n",
    "latMax=df[\"latitud\"].max()\n",
    "\n",
    "lonMax=df[\"longitud\"].max()\n",
    "lonMin=df[\"longitud\"].min()\n",
    "\n",
    "print(\"Latitud minima en los datos: \"+str(latMin))\n",
    "print(\"Latitud maxima en los datos: \"+str(latMax))\n",
    "print(\"Longitud minima en los datos: \"+str(lonMin))\n",
    "print(\"Longitud maxima en los datos: \"+str(lonMax))\n",
    "\n",
    "\n",
    "grados=(0.05)#grados del tamaño de cuadricula 0.009 aprox 1 km  (1/111.1)\n",
    "print(\"Resolucion en grados: \"+str(grados))"
   ]
  },
  {
   "cell_type": "code",
   "execution_count": 5,
   "id": "185ef720",
   "metadata": {},
   "outputs": [
    {
     "name": "stdout",
     "output_type": "stream",
     "text": [
      "246\n",
      "250\n"
     ]
    }
   ],
   "source": [
    "import math\n",
    "yLen=math.ceil((latMax-latMin)/0.045+1)\n",
    "print(yLen)\n",
    "xLen=math.ceil(abs((lonMin-lonMax)/0.045-1))\n",
    "print(xLen)"
   ]
  },
  {
   "cell_type": "code",
   "execution_count": 6,
   "id": "4090cdef",
   "metadata": {},
   "outputs": [
    {
     "name": "stdout",
     "output_type": "stream",
     "text": [
      "CPU times: user 6.24 s, sys: 3.27 s, total: 9.51 s\n",
      "Wall time: 9.49 s\n"
     ]
    }
   ],
   "source": [
    "%%time\n",
    "df[\"y\"]=((latMax-df[\"latitud\"]))/grados\n",
    "df[\"x\"]=((abs(lonMin-df[\"longitud\"]))/grados)\n",
    "df = df.astype({'x':'int'})\n",
    "df = df.astype({'y':'int'})"
   ]
  },
  {
   "cell_type": "code",
   "execution_count": 7,
   "id": "2ad53d34",
   "metadata": {
    "scrolled": true
   },
   "outputs": [
    {
     "data": {
      "text/html": [
       "<div>\n",
       "<style scoped>\n",
       "    .dataframe tbody tr th:only-of-type {\n",
       "        vertical-align: middle;\n",
       "    }\n",
       "\n",
       "    .dataframe tbody tr th {\n",
       "        vertical-align: top;\n",
       "    }\n",
       "\n",
       "    .dataframe thead th {\n",
       "        text-align: right;\n",
       "    }\n",
       "</style>\n",
       "<table border=\"1\" class=\"dataframe\">\n",
       "  <thead>\n",
       "    <tr style=\"text-align: right;\">\n",
       "      <th></th>\n",
       "      <th>Fecha</th>\n",
       "      <th>Hora</th>\n",
       "      <th>latitud</th>\n",
       "      <th>longitud</th>\n",
       "      <th>corrientePico</th>\n",
       "      <th>Datetime</th>\n",
       "      <th>y</th>\n",
       "      <th>x</th>\n",
       "    </tr>\n",
       "  </thead>\n",
       "  <tbody>\n",
       "    <tr>\n",
       "      <th>0</th>\n",
       "      <td>2015-01-01</td>\n",
       "      <td>17:49:38.187316965</td>\n",
       "      <td>26.0828</td>\n",
       "      <td>-109.9644</td>\n",
       "      <td>-9.3</td>\n",
       "      <td>2015-01-01 17:49:38</td>\n",
       "      <td>117</td>\n",
       "      <td>66</td>\n",
       "    </tr>\n",
       "    <tr>\n",
       "      <th>1</th>\n",
       "      <td>2015-01-01</td>\n",
       "      <td>17:49:38.116536534</td>\n",
       "      <td>26.0921</td>\n",
       "      <td>-109.9014</td>\n",
       "      <td>-5.0</td>\n",
       "      <td>2015-01-01 17:49:38</td>\n",
       "      <td>116</td>\n",
       "      <td>67</td>\n",
       "    </tr>\n",
       "    <tr>\n",
       "      <th>2</th>\n",
       "      <td>2015-01-01</td>\n",
       "      <td>17:49:38.082890357</td>\n",
       "      <td>26.0825</td>\n",
       "      <td>-109.8886</td>\n",
       "      <td>-19.9</td>\n",
       "      <td>2015-01-01 17:49:38</td>\n",
       "      <td>117</td>\n",
       "      <td>67</td>\n",
       "    </tr>\n",
       "    <tr>\n",
       "      <th>3</th>\n",
       "      <td>2015-01-01</td>\n",
       "      <td>17:49:38.026770247</td>\n",
       "      <td>26.0778</td>\n",
       "      <td>-109.9338</td>\n",
       "      <td>-31.7</td>\n",
       "      <td>2015-01-01 17:49:38</td>\n",
       "      <td>117</td>\n",
       "      <td>66</td>\n",
       "    </tr>\n",
       "    <tr>\n",
       "      <th>4</th>\n",
       "      <td>2015-01-01</td>\n",
       "      <td>20:17:30.876020136</td>\n",
       "      <td>26.7110</td>\n",
       "      <td>-109.2636</td>\n",
       "      <td>234.0</td>\n",
       "      <td>2015-01-01 20:17:31</td>\n",
       "      <td>104</td>\n",
       "      <td>80</td>\n",
       "    </tr>\n",
       "    <tr>\n",
       "      <th>...</th>\n",
       "      <td>...</td>\n",
       "      <td>...</td>\n",
       "      <td>...</td>\n",
       "      <td>...</td>\n",
       "      <td>...</td>\n",
       "      <td>...</td>\n",
       "      <td>...</td>\n",
       "      <td>...</td>\n",
       "    </tr>\n",
       "    <tr>\n",
       "      <th>80775579</th>\n",
       "      <td>2019-12-28</td>\n",
       "      <td>09:16:59.828122367</td>\n",
       "      <td>24.9845</td>\n",
       "      <td>-105.9646</td>\n",
       "      <td>-296.4</td>\n",
       "      <td>2019-12-28 09:17:00</td>\n",
       "      <td>139</td>\n",
       "      <td>146</td>\n",
       "    </tr>\n",
       "    <tr>\n",
       "      <th>80775580</th>\n",
       "      <td>2019-12-28</td>\n",
       "      <td>09:17:00.133464372</td>\n",
       "      <td>24.9448</td>\n",
       "      <td>-105.9516</td>\n",
       "      <td>-6.8</td>\n",
       "      <td>2019-12-28 09:17:00</td>\n",
       "      <td>139</td>\n",
       "      <td>146</td>\n",
       "    </tr>\n",
       "    <tr>\n",
       "      <th>80775581</th>\n",
       "      <td>2019-12-31</td>\n",
       "      <td>23:42:26.426682061</td>\n",
       "      <td>26.9430</td>\n",
       "      <td>-111.0635</td>\n",
       "      <td>19.2</td>\n",
       "      <td>2019-12-31 23:42:26</td>\n",
       "      <td>99</td>\n",
       "      <td>44</td>\n",
       "    </tr>\n",
       "    <tr>\n",
       "      <th>80775582</th>\n",
       "      <td>2019-12-31</td>\n",
       "      <td>23:45:54.527168476</td>\n",
       "      <td>27.1344</td>\n",
       "      <td>-110.9009</td>\n",
       "      <td>78.6</td>\n",
       "      <td>2019-12-31 23:45:55</td>\n",
       "      <td>96</td>\n",
       "      <td>47</td>\n",
       "    </tr>\n",
       "    <tr>\n",
       "      <th>80775583</th>\n",
       "      <td>2019-12-31</td>\n",
       "      <td>23:48:34.648615741</td>\n",
       "      <td>26.9161</td>\n",
       "      <td>-111.0204</td>\n",
       "      <td>-7.5</td>\n",
       "      <td>2019-12-31 23:48:35</td>\n",
       "      <td>100</td>\n",
       "      <td>44</td>\n",
       "    </tr>\n",
       "  </tbody>\n",
       "</table>\n",
       "<p>80775584 rows × 8 columns</p>\n",
       "</div>"
      ],
      "text/plain": [
       "               Fecha                Hora  latitud  longitud  corrientePico  \\\n",
       "0         2015-01-01  17:49:38.187316965  26.0828 -109.9644           -9.3   \n",
       "1         2015-01-01  17:49:38.116536534  26.0921 -109.9014           -5.0   \n",
       "2         2015-01-01  17:49:38.082890357  26.0825 -109.8886          -19.9   \n",
       "3         2015-01-01  17:49:38.026770247  26.0778 -109.9338          -31.7   \n",
       "4         2015-01-01  20:17:30.876020136  26.7110 -109.2636          234.0   \n",
       "...              ...                 ...      ...       ...            ...   \n",
       "80775579  2019-12-28  09:16:59.828122367  24.9845 -105.9646         -296.4   \n",
       "80775580  2019-12-28  09:17:00.133464372  24.9448 -105.9516           -6.8   \n",
       "80775581  2019-12-31  23:42:26.426682061  26.9430 -111.0635           19.2   \n",
       "80775582  2019-12-31  23:45:54.527168476  27.1344 -110.9009           78.6   \n",
       "80775583  2019-12-31  23:48:34.648615741  26.9161 -111.0204           -7.5   \n",
       "\n",
       "                    Datetime    y    x  \n",
       "0        2015-01-01 17:49:38  117   66  \n",
       "1        2015-01-01 17:49:38  116   67  \n",
       "2        2015-01-01 17:49:38  117   67  \n",
       "3        2015-01-01 17:49:38  117   66  \n",
       "4        2015-01-01 20:17:31  104   80  \n",
       "...                      ...  ...  ...  \n",
       "80775579 2019-12-28 09:17:00  139  146  \n",
       "80775580 2019-12-28 09:17:00  139  146  \n",
       "80775581 2019-12-31 23:42:26   99   44  \n",
       "80775582 2019-12-31 23:45:55   96   47  \n",
       "80775583 2019-12-31 23:48:35  100   44  \n",
       "\n",
       "[80775584 rows x 8 columns]"
      ]
     },
     "execution_count": 7,
     "metadata": {},
     "output_type": "execute_result"
    }
   ],
   "source": [
    "df"
   ]
  },
  {
   "cell_type": "code",
   "execution_count": 8,
   "id": "ba0a8b1b",
   "metadata": {},
   "outputs": [],
   "source": [
    "vPh=df.groupby([pd.Grouper(key='Datetime', freq='H')]).size().reset_index(name='count')"
   ]
  },
  {
   "cell_type": "code",
   "execution_count": 9,
   "id": "318f758a",
   "metadata": {},
   "outputs": [],
   "source": [
    "vPd=df.groupby([pd.Grouper(key='Datetime', freq='D')]).size().reset_index(name='count')"
   ]
  },
  {
   "cell_type": "code",
   "execution_count": 10,
   "id": "f1289222",
   "metadata": {},
   "outputs": [
    {
     "data": {
      "text/html": [
       "<div>\n",
       "<style scoped>\n",
       "    .dataframe tbody tr th:only-of-type {\n",
       "        vertical-align: middle;\n",
       "    }\n",
       "\n",
       "    .dataframe tbody tr th {\n",
       "        vertical-align: top;\n",
       "    }\n",
       "\n",
       "    .dataframe thead th {\n",
       "        text-align: right;\n",
       "    }\n",
       "</style>\n",
       "<table border=\"1\" class=\"dataframe\">\n",
       "  <thead>\n",
       "    <tr style=\"text-align: right;\">\n",
       "      <th></th>\n",
       "      <th>Datetime</th>\n",
       "      <th>count</th>\n",
       "    </tr>\n",
       "  </thead>\n",
       "  <tbody>\n",
       "    <tr>\n",
       "      <th>0</th>\n",
       "      <td>2015-01-01 17:00:00</td>\n",
       "      <td>4</td>\n",
       "    </tr>\n",
       "    <tr>\n",
       "      <th>1</th>\n",
       "      <td>2015-01-01 18:00:00</td>\n",
       "      <td>0</td>\n",
       "    </tr>\n",
       "    <tr>\n",
       "      <th>2</th>\n",
       "      <td>2015-01-01 19:00:00</td>\n",
       "      <td>0</td>\n",
       "    </tr>\n",
       "    <tr>\n",
       "      <th>3</th>\n",
       "      <td>2015-01-01 20:00:00</td>\n",
       "      <td>3</td>\n",
       "    </tr>\n",
       "    <tr>\n",
       "      <th>4</th>\n",
       "      <td>2015-01-01 21:00:00</td>\n",
       "      <td>8</td>\n",
       "    </tr>\n",
       "    <tr>\n",
       "      <th>...</th>\n",
       "      <td>...</td>\n",
       "      <td>...</td>\n",
       "    </tr>\n",
       "    <tr>\n",
       "      <th>43802</th>\n",
       "      <td>2019-12-31 19:00:00</td>\n",
       "      <td>0</td>\n",
       "    </tr>\n",
       "    <tr>\n",
       "      <th>43803</th>\n",
       "      <td>2019-12-31 20:00:00</td>\n",
       "      <td>0</td>\n",
       "    </tr>\n",
       "    <tr>\n",
       "      <th>43804</th>\n",
       "      <td>2019-12-31 21:00:00</td>\n",
       "      <td>0</td>\n",
       "    </tr>\n",
       "    <tr>\n",
       "      <th>43805</th>\n",
       "      <td>2019-12-31 22:00:00</td>\n",
       "      <td>0</td>\n",
       "    </tr>\n",
       "    <tr>\n",
       "      <th>43806</th>\n",
       "      <td>2019-12-31 23:00:00</td>\n",
       "      <td>3</td>\n",
       "    </tr>\n",
       "  </tbody>\n",
       "</table>\n",
       "<p>43807 rows × 2 columns</p>\n",
       "</div>"
      ],
      "text/plain": [
       "                 Datetime  count\n",
       "0     2015-01-01 17:00:00      4\n",
       "1     2015-01-01 18:00:00      0\n",
       "2     2015-01-01 19:00:00      0\n",
       "3     2015-01-01 20:00:00      3\n",
       "4     2015-01-01 21:00:00      8\n",
       "...                   ...    ...\n",
       "43802 2019-12-31 19:00:00      0\n",
       "43803 2019-12-31 20:00:00      0\n",
       "43804 2019-12-31 21:00:00      0\n",
       "43805 2019-12-31 22:00:00      0\n",
       "43806 2019-12-31 23:00:00      3\n",
       "\n",
       "[43807 rows x 2 columns]"
      ]
     },
     "execution_count": 10,
     "metadata": {},
     "output_type": "execute_result"
    }
   ],
   "source": [
    "vPh"
   ]
  },
  {
   "cell_type": "code",
   "execution_count": 11,
   "id": "4a677356",
   "metadata": {},
   "outputs": [
    {
     "data": {
      "text/html": [
       "<div>\n",
       "<style scoped>\n",
       "    .dataframe tbody tr th:only-of-type {\n",
       "        vertical-align: middle;\n",
       "    }\n",
       "\n",
       "    .dataframe tbody tr th {\n",
       "        vertical-align: top;\n",
       "    }\n",
       "\n",
       "    .dataframe thead th {\n",
       "        text-align: right;\n",
       "    }\n",
       "</style>\n",
       "<table border=\"1\" class=\"dataframe\">\n",
       "  <thead>\n",
       "    <tr style=\"text-align: right;\">\n",
       "      <th></th>\n",
       "      <th>Datetime</th>\n",
       "      <th>count</th>\n",
       "    </tr>\n",
       "  </thead>\n",
       "  <tbody>\n",
       "    <tr>\n",
       "      <th>0</th>\n",
       "      <td>2015-01-01</td>\n",
       "      <td>36</td>\n",
       "    </tr>\n",
       "    <tr>\n",
       "      <th>1</th>\n",
       "      <td>2015-01-02</td>\n",
       "      <td>9689</td>\n",
       "    </tr>\n",
       "    <tr>\n",
       "      <th>2</th>\n",
       "      <td>2015-01-03</td>\n",
       "      <td>1649</td>\n",
       "    </tr>\n",
       "    <tr>\n",
       "      <th>3</th>\n",
       "      <td>2015-01-04</td>\n",
       "      <td>0</td>\n",
       "    </tr>\n",
       "    <tr>\n",
       "      <th>4</th>\n",
       "      <td>2015-01-05</td>\n",
       "      <td>155</td>\n",
       "    </tr>\n",
       "    <tr>\n",
       "      <th>...</th>\n",
       "      <td>...</td>\n",
       "      <td>...</td>\n",
       "    </tr>\n",
       "    <tr>\n",
       "      <th>1821</th>\n",
       "      <td>2019-12-27</td>\n",
       "      <td>27</td>\n",
       "    </tr>\n",
       "    <tr>\n",
       "      <th>1822</th>\n",
       "      <td>2019-12-28</td>\n",
       "      <td>100</td>\n",
       "    </tr>\n",
       "    <tr>\n",
       "      <th>1823</th>\n",
       "      <td>2019-12-29</td>\n",
       "      <td>0</td>\n",
       "    </tr>\n",
       "    <tr>\n",
       "      <th>1824</th>\n",
       "      <td>2019-12-30</td>\n",
       "      <td>0</td>\n",
       "    </tr>\n",
       "    <tr>\n",
       "      <th>1825</th>\n",
       "      <td>2019-12-31</td>\n",
       "      <td>3</td>\n",
       "    </tr>\n",
       "  </tbody>\n",
       "</table>\n",
       "<p>1826 rows × 2 columns</p>\n",
       "</div>"
      ],
      "text/plain": [
       "       Datetime  count\n",
       "0    2015-01-01     36\n",
       "1    2015-01-02   9689\n",
       "2    2015-01-03   1649\n",
       "3    2015-01-04      0\n",
       "4    2015-01-05    155\n",
       "...         ...    ...\n",
       "1821 2019-12-27     27\n",
       "1822 2019-12-28    100\n",
       "1823 2019-12-29      0\n",
       "1824 2019-12-30      0\n",
       "1825 2019-12-31      3\n",
       "\n",
       "[1826 rows x 2 columns]"
      ]
     },
     "execution_count": 11,
     "metadata": {},
     "output_type": "execute_result"
    }
   ],
   "source": [
    "vPd"
   ]
  },
  {
   "cell_type": "code",
   "execution_count": 12,
   "id": "8ef4fc9a",
   "metadata": {},
   "outputs": [],
   "source": [
    "valoresPorHora=df.groupby([pd.Grouper(key='Datetime', freq='H'), 'x', 'y']).size().reset_index(name='count')"
   ]
  },
  {
   "cell_type": "code",
   "execution_count": 13,
   "id": "be24df57",
   "metadata": {},
   "outputs": [
    {
     "data": {
      "text/html": [
       "<div>\n",
       "<style scoped>\n",
       "    .dataframe tbody tr th:only-of-type {\n",
       "        vertical-align: middle;\n",
       "    }\n",
       "\n",
       "    .dataframe tbody tr th {\n",
       "        vertical-align: top;\n",
       "    }\n",
       "\n",
       "    .dataframe thead th {\n",
       "        text-align: right;\n",
       "    }\n",
       "</style>\n",
       "<table border=\"1\" class=\"dataframe\">\n",
       "  <thead>\n",
       "    <tr style=\"text-align: right;\">\n",
       "      <th></th>\n",
       "      <th>Datetime</th>\n",
       "      <th>x</th>\n",
       "      <th>y</th>\n",
       "      <th>count</th>\n",
       "    </tr>\n",
       "  </thead>\n",
       "  <tbody>\n",
       "    <tr>\n",
       "      <th>0</th>\n",
       "      <td>2015-01-01 17:00:00</td>\n",
       "      <td>66</td>\n",
       "      <td>117</td>\n",
       "      <td>2</td>\n",
       "    </tr>\n",
       "    <tr>\n",
       "      <th>1</th>\n",
       "      <td>2015-01-01 17:00:00</td>\n",
       "      <td>67</td>\n",
       "      <td>116</td>\n",
       "      <td>1</td>\n",
       "    </tr>\n",
       "    <tr>\n",
       "      <th>2</th>\n",
       "      <td>2015-01-01 17:00:00</td>\n",
       "      <td>67</td>\n",
       "      <td>117</td>\n",
       "      <td>1</td>\n",
       "    </tr>\n",
       "    <tr>\n",
       "      <th>3</th>\n",
       "      <td>2015-01-01 20:00:00</td>\n",
       "      <td>79</td>\n",
       "      <td>104</td>\n",
       "      <td>1</td>\n",
       "    </tr>\n",
       "    <tr>\n",
       "      <th>4</th>\n",
       "      <td>2015-01-01 20:00:00</td>\n",
       "      <td>80</td>\n",
       "      <td>104</td>\n",
       "      <td>1</td>\n",
       "    </tr>\n",
       "    <tr>\n",
       "      <th>...</th>\n",
       "      <td>...</td>\n",
       "      <td>...</td>\n",
       "      <td>...</td>\n",
       "      <td>...</td>\n",
       "    </tr>\n",
       "    <tr>\n",
       "      <th>6986396</th>\n",
       "      <td>2019-12-28 09:00:00</td>\n",
       "      <td>147</td>\n",
       "      <td>138</td>\n",
       "      <td>1</td>\n",
       "    </tr>\n",
       "    <tr>\n",
       "      <th>6986397</th>\n",
       "      <td>2019-12-28 09:00:00</td>\n",
       "      <td>147</td>\n",
       "      <td>140</td>\n",
       "      <td>1</td>\n",
       "    </tr>\n",
       "    <tr>\n",
       "      <th>6986398</th>\n",
       "      <td>2019-12-31 23:00:00</td>\n",
       "      <td>44</td>\n",
       "      <td>99</td>\n",
       "      <td>1</td>\n",
       "    </tr>\n",
       "    <tr>\n",
       "      <th>6986399</th>\n",
       "      <td>2019-12-31 23:00:00</td>\n",
       "      <td>44</td>\n",
       "      <td>100</td>\n",
       "      <td>1</td>\n",
       "    </tr>\n",
       "    <tr>\n",
       "      <th>6986400</th>\n",
       "      <td>2019-12-31 23:00:00</td>\n",
       "      <td>47</td>\n",
       "      <td>96</td>\n",
       "      <td>1</td>\n",
       "    </tr>\n",
       "  </tbody>\n",
       "</table>\n",
       "<p>6986401 rows × 4 columns</p>\n",
       "</div>"
      ],
      "text/plain": [
       "                   Datetime    x    y  count\n",
       "0       2015-01-01 17:00:00   66  117      2\n",
       "1       2015-01-01 17:00:00   67  116      1\n",
       "2       2015-01-01 17:00:00   67  117      1\n",
       "3       2015-01-01 20:00:00   79  104      1\n",
       "4       2015-01-01 20:00:00   80  104      1\n",
       "...                     ...  ...  ...    ...\n",
       "6986396 2019-12-28 09:00:00  147  138      1\n",
       "6986397 2019-12-28 09:00:00  147  140      1\n",
       "6986398 2019-12-31 23:00:00   44   99      1\n",
       "6986399 2019-12-31 23:00:00   44  100      1\n",
       "6986400 2019-12-31 23:00:00   47   96      1\n",
       "\n",
       "[6986401 rows x 4 columns]"
      ]
     },
     "execution_count": 13,
     "metadata": {},
     "output_type": "execute_result"
    }
   ],
   "source": [
    "valoresPorHora"
   ]
  },
  {
   "cell_type": "code",
   "execution_count": 14,
   "id": "36898d70",
   "metadata": {},
   "outputs": [
    {
     "name": "stdout",
     "output_type": "stream",
     "text": [
      "CPU times: user 19min 58s, sys: 10.2 s, total: 20min 8s\n",
      "Wall time: 20min 7s\n"
     ]
    }
   ],
   "source": [
    "%%time\n",
    "\n",
    "start_time = datetime(2015, 1, 1, 0, 0)\n",
    "end_time = datetime(2020, 1, 1, 0, 0)\n",
    "matrices=[]\n",
    "while start_time < end_time:\n",
    "    temp=valoresPorHora[valoresPorHora[\"Datetime\"]==start_time]\n",
    "    a = np.zeros((yLen, xLen))\n",
    "    if(len(temp)>0):\n",
    "        for index, row in temp.iterrows():\n",
    "            a[row[\"y\"], row[\"x\"]]=row[\"count\"]\n",
    "    matrices.append(a)\n",
    "    start_time += timedelta(hours=1)"
   ]
  },
  {
   "cell_type": "code",
   "execution_count": 15,
   "id": "f86abe56",
   "metadata": {},
   "outputs": [],
   "source": [
    "valores=np.array([])\n",
    "for i in range(len(matrices)):\n",
    "    valores=np.append(valores, matrices[i].sum())"
   ]
  },
  {
   "cell_type": "code",
   "execution_count": 17,
   "id": "28cac3ab",
   "metadata": {},
   "outputs": [
    {
     "data": {
      "text/plain": [
       "80775584.0"
      ]
     },
     "execution_count": 17,
     "metadata": {},
     "output_type": "execute_result"
    }
   ],
   "source": [
    "valores.sum()"
   ]
  },
  {
   "cell_type": "code",
   "execution_count": 36,
   "id": "7bcf6ccc",
   "metadata": {},
   "outputs": [
    {
     "name": "stdout",
     "output_type": "stream",
     "text": [
      "CPU times: user 11.5 ms, sys: 944 µs, total: 12.5 ms\n",
      "Wall time: 12.2 ms\n"
     ]
    }
   ],
   "source": [
    "%%time\n",
    "zeroVal=[]\n",
    "valIndex=[]\n",
    "for i in range(len(valores)):\n",
    "    if(valores[i]==0):\n",
    "        zeroVal.append(i)\n",
    "    else:\n",
    "        valIndex.append(i)"
   ]
  },
  {
   "cell_type": "code",
   "execution_count": 37,
   "id": "d1d4ef84",
   "metadata": {},
   "outputs": [
    {
     "data": {
      "text/plain": [
       "25443"
      ]
     },
     "execution_count": 37,
     "metadata": {},
     "output_type": "execute_result"
    }
   ],
   "source": [
    "len(zeroVal)"
   ]
  },
  {
   "cell_type": "code",
   "execution_count": 38,
   "id": "b7a8e145",
   "metadata": {},
   "outputs": [
    {
     "data": {
      "text/plain": [
       "18381"
      ]
     },
     "execution_count": 38,
     "metadata": {},
     "output_type": "execute_result"
    }
   ],
   "source": [
    "len(valIndex)"
   ]
  },
  {
   "cell_type": "code",
   "execution_count": 76,
   "id": "962c3cbf",
   "metadata": {},
   "outputs": [
    {
     "name": "stdout",
     "output_type": "stream",
     "text": [
      "1336\n"
     ]
    }
   ],
   "source": [
    "t=0\n",
    "i=0\n",
    "step=20\n",
    "hist=[]\n",
    "while i<len(valIndex)-step:\n",
    "    \n",
    "    if(valIndex[i]+step==valIndex[i+step]):\n",
    "        t=t+1  \n",
    "        i=i+5\n",
    "        hist.append([valIndex[i], valIndex[i+step]])\n",
    "    else:\n",
    "        i=i+1\n",
    "print(t)"
   ]
  },
  {
   "cell_type": "code",
   "execution_count": 41,
   "id": "7d2f8005",
   "metadata": {},
   "outputs": [
    {
     "data": {
      "text/plain": [
       "1336"
      ]
     },
     "execution_count": 41,
     "metadata": {},
     "output_type": "execute_result"
    }
   ],
   "source": [
    "len(hist)"
   ]
  },
  {
   "cell_type": "code",
   "execution_count": 42,
   "id": "0627dd57",
   "metadata": {},
   "outputs": [],
   "source": [
    "dataHist=[]\n",
    "for i in range(len(hist)):\n",
    "    for j in range(step):\n",
    "        dataHist.append(matrices[hist[i][0]+j])\n"
   ]
  },
  {
   "cell_type": "code",
   "execution_count": 43,
   "id": "5ea3f134",
   "metadata": {},
   "outputs": [],
   "source": [
    "history=np.array(dataHist)"
   ]
  },
  {
   "cell_type": "code",
   "execution_count": 44,
   "id": "96c45f02",
   "metadata": {},
   "outputs": [
    {
     "data": {
      "text/plain": [
       "(26720, 246, 250)"
      ]
     },
     "execution_count": 44,
     "metadata": {},
     "output_type": "execute_result"
    }
   ],
   "source": [
    "history.shape"
   ]
  },
  {
   "cell_type": "code",
   "execution_count": 45,
   "id": "ac145504",
   "metadata": {},
   "outputs": [],
   "source": [
    "x = history.reshape((len(dataHist)//20), 20, 246, 250)"
   ]
  },
  {
   "cell_type": "code",
   "execution_count": 46,
   "id": "f6d0a50c",
   "metadata": {},
   "outputs": [
    {
     "data": {
      "text/plain": [
       "(1336, 20, 246, 250)"
      ]
     },
     "execution_count": 46,
     "metadata": {},
     "output_type": "execute_result"
    }
   ],
   "source": [
    "x.shape"
   ]
  },
  {
   "cell_type": "code",
   "execution_count": 73,
   "id": "99d95fcb",
   "metadata": {},
   "outputs": [],
   "source": [
    "pruebaHist=x[3]"
   ]
  },
  {
   "cell_type": "code",
   "execution_count": 64,
   "id": "21eba666",
   "metadata": {},
   "outputs": [
    {
     "data": {
      "text/plain": [
       "20"
      ]
     },
     "execution_count": 64,
     "metadata": {},
     "output_type": "execute_result"
    }
   ],
   "source": [
    "len(pruebaHist)"
   ]
  },
  {
   "cell_type": "code",
   "execution_count": 74,
   "id": "9389461c",
   "metadata": {},
   "outputs": [
    {
     "data": {
      "image/png": "[encoded data removed]",
      "text/plain": [
       "<Figure size 1200x1600 with 20 Axes>"
      ]
     },
     "metadata": {},
     "output_type": "display_data"
    }
   ],
   "source": [
    "import matplotlib.pyplot as plt\n",
    "\n",
    "fig, axs = plt.subplots(nrows=5, ncols=4, figsize=(12,16))\n",
    "\n",
    "for i in range(len(pruebaHist)):\n",
    "    row = i // 4\n",
    "    col = i % 4\n",
    "    axs[row, col].imshow(pruebaHist[i], cmap='twilight', interpolation='nearest')"
   ]
  },
  {
   "cell_type": "code",
   "execution_count": 41,
   "id": "88907d57",
   "metadata": {},
   "outputs": [],
   "source": [
    "np.save('500hist20step5', x[:500])"
   ]
  }
 ],
 "metadata": {
  "kernelspec": {
   "display_name": "Python 3 (ipykernel)",
   "language": "python",
   "name": "python3"
  },
  "language_info": {
   "codemirror_mode": {
    "name": "ipython",
    "version": 3
   },
   "file_extension": ".py",
   "mimetype": "text/x-python",
   "name": "python",
   "nbconvert_exporter": "python",
   "pygments_lexer": "ipython3",
   "version": "3.10.9"
  }
 },
 "nbformat": 4,
 "nbformat_minor": 5
}
