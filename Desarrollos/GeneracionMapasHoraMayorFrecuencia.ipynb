{
 "cells": [
  {
   "cell_type": "code",
   "execution_count": 1,
   "id": "9279026d",
   "metadata": {},
   "outputs": [],
   "source": [
    "from matplotlib import pyplot as plt\n",
    "from datetime import datetime, timedelta\n",
    "import numpy as np\n",
    "import seaborn as sns\n",
    "import pandas as pd\n",
    "import matplotlib.pyplot as plt\n",
    "import copy\n",
    "import os, datetime\n",
    "from shapely.geometry.polygon import Polygon, Point\n",
    "from dateutil.rrule import rrule, MONTHLY\n",
    "from dateutil.parser import parse\n",
    "\n",
    "import folium\n",
    "import matplotlib.colors as colors\n",
    "from branca.element import Figure"
   ]
  },
  {
   "cell_type": "code",
   "execution_count": 2,
   "id": "4780f007",
   "metadata": {},
   "outputs": [
    {
     "name": "stdout",
     "output_type": "stream",
     "text": [
      "<class 'pandas.core.frame.DataFrame'>\n",
      "RangeIndex: 80775584 entries, 0 to 80775583\n",
      "Data columns (total 6 columns):\n",
      " #   Column         Dtype         \n",
      "---  ------         -----         \n",
      " 0   Fecha          object        \n",
      " 1   Hora           object        \n",
      " 2   latitud        float64       \n",
      " 3   longitud       float64       \n",
      " 4   corrientePico  float64       \n",
      " 5   Datetime       datetime64[ns]\n",
      "dtypes: datetime64[ns](1), float64(3), object(2)\n",
      "memory usage: 3.6+ GB\n",
      "None\n",
      "CPU times: user 1min 57s, sys: 9.09 s, total: 2min 6s\n",
      "Wall time: 2min 6s\n"
     ]
    }
   ],
   "source": [
    "%%time\n",
    "import pandas as pd\n",
    "\n",
    "# Lee el archivo CSV\n",
    "df = pd.read_csv('./fullData/full_dataSorted.csv', parse_dates=['Datetime'])\n",
    "\n",
    "# Muestra el dataframe\n",
    "print(df.info())"
   ]
  },
  {
   "cell_type": "code",
   "execution_count": 3,
   "id": "35d4a59b",
   "metadata": {},
   "outputs": [
    {
     "name": "stdout",
     "output_type": "stream",
     "text": [
      "57\n",
      "57\n",
      "3249\n"
     ]
    }
   ],
   "source": [
    "intervalo=0.1\n",
    "\n",
    "latMin=20.82693622940\n",
    "latMax=32.04711710440\n",
    "lonMin=-113.37002358900\n",
    "lonMax=-102.09568904000\n",
    "\n",
    "latInterval = np.arange(latMin, latMax, intervalo*2)\n",
    "\n",
    "lonInterval = np.arange(abs(lonMax), abs(lonMin), intervalo*2)\n",
    "\n",
    "points=[]\n",
    "for i in latInterval:\n",
    "    for j in lonInterval:\n",
    "        points.append([-j,i])\n",
    "print(len(latInterval))      \n",
    "print(len(lonInterval))\n",
    "print(len(points))"
   ]
  },
  {
   "cell_type": "code",
   "execution_count": 4,
   "id": "e24b705d",
   "metadata": {},
   "outputs": [
    {
     "data": {
      "image/png": "[encoded data removed]",
      "text/plain": [
       "<Figure size 640x480 with 1 Axes>"
      ]
     },
     "metadata": {},
     "output_type": "display_data"
    }
   ],
   "source": [
    "coord = [[-109.80083208100, 32.04711710440],\n",
    "        [-102.09568904000, 24.12843837480],\n",
    "        [-106.14077274900, 20.82693622940],\n",
    "        [-113.37002358900, 29.52488843780]]\n",
    "coord.append(coord[0]) #repeat the first point to create a 'closed loop'\n",
    "\n",
    "xs, ys = zip(*coord) #create lists of x and y values\n",
    "\n",
    "plt.figure()\n",
    "plt.plot(xs,ys) \n",
    "plt.show()"
   ]
  },
  {
   "cell_type": "code",
   "execution_count": 5,
   "id": "76a24d19",
   "metadata": {},
   "outputs": [
    {
     "name": "stdout",
     "output_type": "stream",
     "text": [
      "1334\n",
      "CPU times: user 138 ms, sys: 1.01 ms, total: 139 ms\n",
      "Wall time: 143 ms\n"
     ]
    }
   ],
   "source": [
    "%%time\n",
    "poly = Polygon(coord)\n",
    "puntosDentro=[]\n",
    "# Verificar si cada punto está dentro del polígono\n",
    "for point in points:\n",
    "    if poly.contains(Point(point)):\n",
    "        puntosDentro.append(point)\n",
    "puntosT1xy=puntosDentro\n",
    "print(len(puntosDentro))"
   ]
  },
  {
   "cell_type": "code",
   "execution_count": 6,
   "id": "4c63894b",
   "metadata": {},
   "outputs": [],
   "source": [
    "fecha_inicio = parse(df[\"Fecha\"][0])\n",
    "\n",
    "fecha_fin = parse(df[\"Fecha\"][len(df)-1])\n",
    "\n",
    "distancia=intervalo"
   ]
  },
  {
   "cell_type": "code",
   "execution_count": 7,
   "id": "7924d0f6",
   "metadata": {},
   "outputs": [
    {
     "name": "stdout",
     "output_type": "stream",
     "text": [
      "CPU times: user 22min 29s, sys: 2min 43s, total: 25min 13s\n",
      "Wall time: 25min 11s\n"
     ]
    }
   ],
   "source": [
    "%%time\n",
    "registros=[]\n",
    "for fecha in rrule(MONTHLY, dtstart=fecha_inicio, until=fecha_fin):\n",
    "\n",
    "    dfTemp=df[(df['Datetime'] >= fecha) & (df['Datetime'] <= fecha + pd.DateOffset(months=1))]\n",
    "    row=[]\n",
    "    #print(dfTemp)\n",
    "    for iRow in puntosT1xy:\n",
    "        #print(len(dfTemp))\n",
    " \n",
    "        #cercanosTemp=dfTemp.loc[(np.abs(dfTemp['latitud'] - iRow[1])<(2*distancia)) & (np.abs(dfTemp['longitud'] - iRow[0])<(2*distancia))]\n",
    "        cercanos=dfTemp.loc[(np.sqrt((dfTemp['latitud'] - iRow[1])**2 + (dfTemp['longitud'] - iRow[0])**2)) < distancia]\n",
    "        #print(len(cercanos))\n",
    "        if(len(cercanos)!=0):\n",
    "            horaMax=cercanos[\"Datetime\"].groupby([cercanos[\"Datetime\"].dt.hour]).count().idxmax()\n",
    "        else:\n",
    "            horaMax=-1\n",
    "        row.append(horaMax)\n",
    "    registros.append(row)"
   ]
  },
  {
   "cell_type": "code",
   "execution_count": 8,
   "id": "42559b9d",
   "metadata": {},
   "outputs": [
    {
     "name": "stdout",
     "output_type": "stream",
     "text": [
      "CPU times: user 25.3 ms, sys: 1.04 ms, total: 26.4 ms\n",
      "Wall time: 25.7 ms\n"
     ]
    }
   ],
   "source": [
    "%%time\n",
    "puntosT1xyCopy=copy.deepcopy(puntosT1xy)\n",
    "\n",
    "for mes in range(len(registros)):\n",
    "    y=0\n",
    "    for i in puntosT1xyCopy:\n",
    "        i.append(registros[mes][y])\n",
    "        y=y+1\n"
   ]
  },
  {
   "cell_type": "code",
   "execution_count": 9,
   "id": "d8f80ac2",
   "metadata": {},
   "outputs": [
    {
     "name": "stdout",
     "output_type": "stream",
     "text": [
      "Resumen de la información:\n",
      "Coordenadas: 1334\n",
      "Meses: 60\n",
      "Fecha inicial: 2015-01-01 00:00:00\n",
      "Fecha final: 2019-12-31 00:00:00\n",
      "Distancia maxima en grados: 0.1\n"
     ]
    }
   ],
   "source": [
    "print(\"Resumen de la información:\")\n",
    "print(\"Coordenadas: \"+str(len(puntosT1xyCopy)))\n",
    "print(\"Meses: \"+str(len(puntosT1xyCopy[0])-2))\n",
    "\n",
    "print(\"Fecha inicial: \"+ str(fecha_inicio ))\n",
    "print(\"Fecha final: \" +str(fecha_fin))\n",
    "\n",
    "print(\"Distancia maxima en grados: \"+str(distancia))"
   ]
  },
  {
   "cell_type": "code",
   "execution_count": 10,
   "id": "7b28933b",
   "metadata": {},
   "outputs": [
    {
     "data": {
      "text/plain": [
       "'./Resultados/2023-06-26_18-51-21'"
      ]
     },
     "execution_count": 10,
     "metadata": {},
     "output_type": "execute_result"
    }
   ],
   "source": [
    "path='./Resultados/'+datetime.datetime.now().strftime('%Y-%m-%d_%H-%M-%S')\n",
    "if not os.path.exists(path):\n",
    "    os.makedirs(path)\n",
    "path"
   ]
  },
  {
   "cell_type": "code",
   "execution_count": 11,
   "id": "0b337c25",
   "metadata": {},
   "outputs": [],
   "source": [
    "radioMetros=9000\n",
    "meses=[\"Enero\", \"Febrero\", \"Marzo\", \"Abril\", \"Mayo\", \"Junio\", \"Julio\", \"Agosto\", \"Septiembre\", \"Octubre\", \"Noviembre\", \"Diciembre\"]"
   ]
  },
  {
   "cell_type": "code",
   "execution_count": 12,
   "id": "3b8d2ef1",
   "metadata": {},
   "outputs": [
    {
     "name": "stdout",
     "output_type": "stream",
     "text": [
      "CPU times: user 1min 22s, sys: 2.98 s, total: 1min 25s\n",
      "Wall time: 1min 26s\n"
     ]
    }
   ],
   "source": [
    "%%time\n",
    "import branca.colormap as cm\n",
    "\n",
    "colors = cm.LinearColormap([colors.rgb2hex(rgba) for rgba in plt.cm.Spectral(np.linspace(0, 1, 24))], vmin=0, vmax=23, max_labels =24)\n",
    "\n",
    "# Define los puntos de interés como un arreglo de coordenadas\n",
    "puntos_de_interes = puntosT1xyCopy\n",
    "\n",
    "\n",
    "# Agrega los puntos de interés al mapa\n",
    "for mes in range(len(puntos_de_interes[0])-2):\n",
    "    \n",
    "    mapa = folium.Map(location=[27.0862, -107.41912], zoom_start=7)\n",
    "    for punto in puntos_de_interes:\n",
    "        if(punto[mes+2]!=-1):\n",
    "            circle=folium.Circle(\n",
    "                location=[punto[1], punto[0]],\n",
    "                radius=radioMetros,\n",
    "                color=colors(punto[mes+2]),\n",
    "                fill=True,\n",
    "                fill_color=colors(punto[mes+2])\n",
    "            )\n",
    "            folium.Marker(\n",
    "                location=[punto[1], punto[0]],\n",
    "                icon=folium.DivIcon(html=f\"\"\"<div style=\"text-align:center; width: 10px; color: black;\">{punto[mes+2]}</div>\"\"\")\n",
    "            ).add_to(mapa)\n",
    "            circle.add_to(mapa)\n",
    "\n",
    "    \n",
    "    colors.caption = 'Color Scale'\n",
    "    mapa.add_child(colors)  \n",
    "\n",
    "    fig = Figure(width=1000, height=1200)\n",
    "    fig.add_child(mapa)\n",
    "    mapa.save(path+\"/map_\"+str(2015+(mes//12))+\"_\"+str(meses[mes%12])+\".html\")"
   ]
  },
  {
   "cell_type": "code",
   "execution_count": 13,
   "id": "d2bb44b8",
   "metadata": {},
   "outputs": [],
   "source": [
    "r1=\"Resumen de la información:\\n\\n\"\n",
    "r2=\"Coordenadas: \"+str(len(puntosT1xyCopy))+\"\\n\\n\"\n",
    "r3=\"Meses: \"+str(len(puntosT1xyCopy[0])-2)+\"\\n\\n\"\n",
    "\n",
    "r4=\"Fecha inicial: \"+ str(fecha_inicio )+\"\\n\\n\"\n",
    "r5=\"Fecha final: \" +str(fecha_fin)+\"\\n\\n\"\n",
    "r6=\"Distancia maxima en grados: \"+str(distancia)+\"\\n\\n\"\n",
    "r7=\"Radio de cada circulo:\"+str(radioMetros)+\"\\n\\n\"\n",
    "text=r1+r2+r3+r4+r5+r6+r7"
   ]
  },
  {
   "cell_type": "code",
   "execution_count": null,
   "id": "402fcfbd",
   "metadata": {},
   "outputs": [],
   "source": [
    "with open(path+'/info.txt', 'w') as f:\n",
    "    f.write(text)\n",
    "    "
   ]
  }
 ],
 "metadata": {
  "kernelspec": {
   "display_name": "Python 3 (ipykernel)",
   "language": "python",
   "name": "python3"
  },
  "language_info": {
   "codemirror_mode": {
    "name": "ipython",
    "version": 3
   },
   "file_extension": ".py",
   "mimetype": "text/x-python",
   "name": "python",
   "nbconvert_exporter": "python",
   "pygments_lexer": "ipython3",
   "version": "3.10.9"
  }
 },
 "nbformat": 4,
 "nbformat_minor": 5
}
